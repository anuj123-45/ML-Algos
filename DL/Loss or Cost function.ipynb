{
 "cells": [
  {
   "cell_type": "code",
   "execution_count": 33,
   "id": "13cbec79",
   "metadata": {},
   "outputs": [],
   "source": [
    "import numpy as np"
   ]
  },
  {
   "cell_type": "code",
   "execution_count": 34,
   "id": "afd15065",
   "metadata": {},
   "outputs": [],
   "source": [
    "y_pred=np.array([1,1,0,0,1])\n",
    "y_true=np.array([0.30,0.7,1,0,.5])"
   ]
  },
  {
   "cell_type": "code",
   "execution_count": 35,
   "id": "633476eb",
   "metadata": {},
   "outputs": [],
   "source": [
    "def mae(y_true,y_pred):\n",
    "    total_error=0\n",
    "    for y_t,y_p in zip(y_true,y_pred):\n",
    "        total_error+=abs(y_t-y_p)\n",
    "    \n",
    "    print(\"error\",total_error)\n",
    "    print(\"mae\",total_error/len(y_true))"
   ]
  },
  {
   "cell_type": "code",
   "execution_count": 36,
   "id": "9f9fb218",
   "metadata": {},
   "outputs": [
    {
     "name": "stdout",
     "output_type": "stream",
     "text": [
      "error 2.5\n",
      "mae 0.5\n"
     ]
    }
   ],
   "source": [
    "mae(y_true,y_pred)"
   ]
  },
  {
   "cell_type": "code",
   "execution_count": 37,
   "id": "8687081a",
   "metadata": {},
   "outputs": [
    {
     "data": {
      "text/plain": [
       "array([0.])"
      ]
     },
     "execution_count": 37,
     "metadata": {},
     "output_type": "execute_result"
    }
   ],
   "source": [
    "np.log([1])"
   ]
  },
  {
   "cell_type": "code",
   "execution_count": 38,
   "id": "07ad2736",
   "metadata": {},
   "outputs": [],
   "source": [
    "epsilon=1e-15"
   ]
  },
  {
   "cell_type": "code",
   "execution_count": 39,
   "id": "6731f6ab",
   "metadata": {},
   "outputs": [
    {
     "data": {
      "text/plain": [
       "array([1, 1, 0, 0, 1])"
      ]
     },
     "execution_count": 39,
     "metadata": {},
     "output_type": "execute_result"
    }
   ],
   "source": [
    "y_pred"
   ]
  },
  {
   "cell_type": "code",
   "execution_count": 40,
   "id": "c5f18f96",
   "metadata": {},
   "outputs": [],
   "source": [
    "y_pred_new=[max(i,epsilon) for i in y_pred]"
   ]
  },
  {
   "cell_type": "code",
   "execution_count": 41,
   "id": "756244c9",
   "metadata": {},
   "outputs": [
    {
     "data": {
      "text/plain": [
       "[1, 1, 1e-15, 1e-15, 1]"
      ]
     },
     "execution_count": 41,
     "metadata": {},
     "output_type": "execute_result"
    }
   ],
   "source": [
    "y_pred_new"
   ]
  },
  {
   "cell_type": "code",
   "execution_count": 42,
   "id": "69d90164",
   "metadata": {},
   "outputs": [],
   "source": [
    "y_pred_new=[min(i,1-epsilon) for i in y_pred_new]"
   ]
  },
  {
   "cell_type": "code",
   "execution_count": 43,
   "id": "e03faffc",
   "metadata": {},
   "outputs": [
    {
     "data": {
      "text/plain": [
       "[0.999999999999999, 0.999999999999999, 1e-15, 1e-15, 0.999999999999999]"
      ]
     },
     "execution_count": 43,
     "metadata": {},
     "output_type": "execute_result"
    }
   ],
   "source": [
    "y_pred_new"
   ]
  },
  {
   "cell_type": "code",
   "execution_count": 44,
   "id": "fe133589",
   "metadata": {},
   "outputs": [],
   "source": [
    "y_pred_new=np.array(y_pred_new)"
   ]
  },
  {
   "cell_type": "code",
   "execution_count": 45,
   "id": "14760087",
   "metadata": {},
   "outputs": [
    {
     "data": {
      "text/plain": [
       "array([1.e+00, 1.e+00, 1.e-15, 1.e-15, 1.e+00])"
      ]
     },
     "execution_count": 45,
     "metadata": {},
     "output_type": "execute_result"
    }
   ],
   "source": [
    "y_pred_new"
   ]
  },
  {
   "cell_type": "code",
   "execution_count": null,
   "id": "cc1e16f9",
   "metadata": {},
   "outputs": [],
   "source": []
  }
 ],
 "metadata": {
  "kernelspec": {
   "display_name": "Python 3 (ipykernel)",
   "language": "python",
   "name": "python3"
  },
  "language_info": {
   "codemirror_mode": {
    "name": "ipython",
    "version": 3
   },
   "file_extension": ".py",
   "mimetype": "text/x-python",
   "name": "python",
   "nbconvert_exporter": "python",
   "pygments_lexer": "ipython3",
   "version": "3.11.4"
  }
 },
 "nbformat": 4,
 "nbformat_minor": 5
}
