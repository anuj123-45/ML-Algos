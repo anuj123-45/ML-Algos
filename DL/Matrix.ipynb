{
 "cells": [
  {
   "cell_type": "code",
   "execution_count": 1,
   "id": "434c4882",
   "metadata": {},
   "outputs": [],
   "source": [
    "import numpy as np"
   ]
  },
  {
   "cell_type": "code",
   "execution_count": 5,
   "id": "66269527",
   "metadata": {},
   "outputs": [],
   "source": [
    "revenue=np.array([[180,200,292],[45,78,34],[66,333,22]])\n",
    "expenses=np.array([[80,20,29],[4,7,3],[6,33,2]])"
   ]
  },
  {
   "cell_type": "code",
   "execution_count": 6,
   "id": "6be61cbe",
   "metadata": {},
   "outputs": [],
   "source": [
    "profit=revenue-expenses"
   ]
  },
  {
   "cell_type": "code",
   "execution_count": 7,
   "id": "4c585e15",
   "metadata": {},
   "outputs": [
    {
     "data": {
      "text/plain": [
       "array([[100, 180, 263],\n",
       "       [ 41,  71,  31],\n",
       "       [ 60, 300,  20]])"
      ]
     },
     "execution_count": 7,
     "metadata": {},
     "output_type": "execute_result"
    }
   ],
   "source": [
    "profit"
   ]
  },
  {
   "cell_type": "code",
   "execution_count": null,
   "id": "8aba631a",
   "metadata": {},
   "outputs": [],
   "source": []
  }
 ],
 "metadata": {
  "kernelspec": {
   "display_name": "Python 3 (ipykernel)",
   "language": "python",
   "name": "python3"
  },
  "language_info": {
   "codemirror_mode": {
    "name": "ipython",
    "version": 3
   },
   "file_extension": ".py",
   "mimetype": "text/x-python",
   "name": "python",
   "nbconvert_exporter": "python",
   "pygments_lexer": "ipython3",
   "version": "3.10.12"
  }
 },
 "nbformat": 4,
 "nbformat_minor": 5
}
