{
 "cells": [
  {
   "cell_type": "code",
   "execution_count": 1,
   "id": "cfc91845",
   "metadata": {},
   "outputs": [],
   "source": [
    "import numpy as np\n",
    "import tensorflow as tf\n",
    "from tensorflow import keras\n",
    "import pandas as pd\n",
    "import matplotlib.pyplot as plt"
   ]
  },
  {
   "cell_type": "code",
   "execution_count": 2,
   "id": "a5cc7210",
   "metadata": {},
   "outputs": [],
   "source": [
    "df=pd.read_csv('insurance_data (1).csv')"
   ]
  },
  {
   "cell_type": "code",
   "execution_count": 3,
   "id": "ff3450a9",
   "metadata": {},
   "outputs": [
    {
     "data": {
      "text/html": [
       "<div>\n",
       "<style scoped>\n",
       "    .dataframe tbody tr th:only-of-type {\n",
       "        vertical-align: middle;\n",
       "    }\n",
       "\n",
       "    .dataframe tbody tr th {\n",
       "        vertical-align: top;\n",
       "    }\n",
       "\n",
       "    .dataframe thead th {\n",
       "        text-align: right;\n",
       "    }\n",
       "</style>\n",
       "<table border=\"1\" class=\"dataframe\">\n",
       "  <thead>\n",
       "    <tr style=\"text-align: right;\">\n",
       "      <th></th>\n",
       "      <th>age</th>\n",
       "      <th>affordibility</th>\n",
       "      <th>bought_insurance</th>\n",
       "    </tr>\n",
       "  </thead>\n",
       "  <tbody>\n",
       "    <tr>\n",
       "      <th>0</th>\n",
       "      <td>22</td>\n",
       "      <td>1</td>\n",
       "      <td>0</td>\n",
       "    </tr>\n",
       "    <tr>\n",
       "      <th>1</th>\n",
       "      <td>25</td>\n",
       "      <td>0</td>\n",
       "      <td>0</td>\n",
       "    </tr>\n",
       "    <tr>\n",
       "      <th>2</th>\n",
       "      <td>47</td>\n",
       "      <td>1</td>\n",
       "      <td>1</td>\n",
       "    </tr>\n",
       "    <tr>\n",
       "      <th>3</th>\n",
       "      <td>52</td>\n",
       "      <td>0</td>\n",
       "      <td>0</td>\n",
       "    </tr>\n",
       "    <tr>\n",
       "      <th>4</th>\n",
       "      <td>46</td>\n",
       "      <td>1</td>\n",
       "      <td>1</td>\n",
       "    </tr>\n",
       "  </tbody>\n",
       "</table>\n",
       "</div>"
      ],
      "text/plain": [
       "   age  affordibility  bought_insurance\n",
       "0   22              1                 0\n",
       "1   25              0                 0\n",
       "2   47              1                 1\n",
       "3   52              0                 0\n",
       "4   46              1                 1"
      ]
     },
     "execution_count": 3,
     "metadata": {},
     "output_type": "execute_result"
    }
   ],
   "source": [
    "df.head()"
   ]
  },
  {
   "cell_type": "code",
   "execution_count": 4,
   "id": "5aa11379",
   "metadata": {},
   "outputs": [],
   "source": [
    "#train and test"
   ]
  },
  {
   "cell_type": "code",
   "execution_count": 5,
   "id": "131f660f",
   "metadata": {},
   "outputs": [],
   "source": [
    "from sklearn.model_selection import train_test_split\n",
    "X_train, X_test, y_train, y_test = train_test_split(df[['age','affordibility']],df.bought_insurance,test_size=0.2, random_state=25)"
   ]
  },
  {
   "cell_type": "code",
   "execution_count": 6,
   "id": "8bac5213",
   "metadata": {},
   "outputs": [],
   "source": [
    "# Preprocessing: Scale the data so that both age and affordibility are in same scaling range"
   ]
  },
  {
   "cell_type": "code",
   "execution_count": 7,
   "id": "b82a9fef",
   "metadata": {},
   "outputs": [],
   "source": [
    "X_train_scaled = X_train.copy()\n",
    "X_train_scaled['age'] = X_train_scaled['age'] / 100\n",
    "\n",
    "X_test_scaled = X_test.copy()\n",
    "X_test_scaled['age'] = X_test_scaled['age'] / 100"
   ]
  },
  {
   "cell_type": "code",
   "execution_count": 8,
   "id": "d4546e45",
   "metadata": {},
   "outputs": [],
   "source": [
    "#model building"
   ]
  },
  {
   "cell_type": "code",
   "execution_count": null,
   "id": "9becb44e",
   "metadata": {},
   "outputs": [],
   "source": [
    "model=keras.Sequential([\n",
    "    keras.layers.Dense(1,input_shape=(2,),activation='sigmoid',kernel_initializer='ones',bias_initializer='zeros')\n",
    "])\n",
    "\n",
    "model.compile(optimizer='adam',\n",
    "              loss='binary_crossentropy',\n",
    "              metrics=['accuracy'])\n",
    "\n",
    "model.fit(X_train_scaled, y_train, epochs=100)"
   ]
  },
  {
   "cell_type": "code",
   "execution_count": 10,
   "id": "65ba2893",
   "metadata": {},
   "outputs": [
    {
     "data": {
      "text/html": [
       "<div>\n",
       "<style scoped>\n",
       "    .dataframe tbody tr th:only-of-type {\n",
       "        vertical-align: middle;\n",
       "    }\n",
       "\n",
       "    .dataframe tbody tr th {\n",
       "        vertical-align: top;\n",
       "    }\n",
       "\n",
       "    .dataframe thead th {\n",
       "        text-align: right;\n",
       "    }\n",
       "</style>\n",
       "<table border=\"1\" class=\"dataframe\">\n",
       "  <thead>\n",
       "    <tr style=\"text-align: right;\">\n",
       "      <th></th>\n",
       "      <th>age</th>\n",
       "      <th>affordibility</th>\n",
       "    </tr>\n",
       "  </thead>\n",
       "  <tbody>\n",
       "    <tr>\n",
       "      <th>2</th>\n",
       "      <td>0.47</td>\n",
       "      <td>1</td>\n",
       "    </tr>\n",
       "    <tr>\n",
       "      <th>10</th>\n",
       "      <td>0.18</td>\n",
       "      <td>1</td>\n",
       "    </tr>\n",
       "    <tr>\n",
       "      <th>21</th>\n",
       "      <td>0.26</td>\n",
       "      <td>0</td>\n",
       "    </tr>\n",
       "    <tr>\n",
       "      <th>11</th>\n",
       "      <td>0.28</td>\n",
       "      <td>1</td>\n",
       "    </tr>\n",
       "    <tr>\n",
       "      <th>14</th>\n",
       "      <td>0.49</td>\n",
       "      <td>1</td>\n",
       "    </tr>\n",
       "    <tr>\n",
       "      <th>9</th>\n",
       "      <td>0.61</td>\n",
       "      <td>1</td>\n",
       "    </tr>\n",
       "  </tbody>\n",
       "</table>\n",
       "</div>"
      ],
      "text/plain": [
       "     age  affordibility\n",
       "2   0.47              1\n",
       "10  0.18              1\n",
       "21  0.26              0\n",
       "11  0.28              1\n",
       "14  0.49              1\n",
       "9   0.61              1"
      ]
     },
     "execution_count": 10,
     "metadata": {},
     "output_type": "execute_result"
    }
   ],
   "source": [
    "X_test_scaled"
   ]
  },
  {
   "cell_type": "code",
   "execution_count": 11,
   "id": "ec576ba0",
   "metadata": {},
   "outputs": [
    {
     "name": "stdout",
     "output_type": "stream",
     "text": [
      "\u001b[1m1/1\u001b[0m \u001b[32m━━━━━━━━━━━━━━━━━━━━\u001b[0m\u001b[37m\u001b[0m \u001b[1m0s\u001b[0m 90ms/step\n"
     ]
    },
    {
     "data": {
      "text/plain": [
       "array([[0.64471424],\n",
       "       [0.56694895],\n",
       "       [0.40433905],\n",
       "       [0.5943529 ],\n",
       "       [0.64985454],\n",
       "       [0.6799389 ]], dtype=float32)"
      ]
     },
     "execution_count": 11,
     "metadata": {},
     "output_type": "execute_result"
    }
   ],
   "source": [
    "model.predict(X_test_scaled)"
   ]
  },
  {
   "cell_type": "code",
   "execution_count": 12,
   "id": "a8fd1b58",
   "metadata": {},
   "outputs": [
    {
     "data": {
      "text/plain": [
       "2     1\n",
       "10    0\n",
       "21    0\n",
       "11    0\n",
       "14    1\n",
       "9     1\n",
       "Name: bought_insurance, dtype: int64"
      ]
     },
     "execution_count": 12,
     "metadata": {},
     "output_type": "execute_result"
    }
   ],
   "source": [
    "y_test"
   ]
  },
  {
   "cell_type": "code",
   "execution_count": 13,
   "id": "4a9c65ca",
   "metadata": {},
   "outputs": [
    {
     "data": {
      "text/plain": [
       "(array([[1.1257616],\n",
       "        [0.7468925]], dtype=float32),\n",
       " array([-0.680116], dtype=float32))"
      ]
     },
     "execution_count": 13,
     "metadata": {},
     "output_type": "execute_result"
    }
   ],
   "source": [
    "coef,intercept=model.get_weights()\n",
    "coef,intercept"
   ]
  },
  {
   "cell_type": "code",
   "execution_count": 14,
   "id": "dd34d112",
   "metadata": {},
   "outputs": [
    {
     "data": {
      "text/plain": [
       "0.9999999943972036"
      ]
     },
     "execution_count": 14,
     "metadata": {},
     "output_type": "execute_result"
    }
   ],
   "source": [
    "def sigmoid(x):\n",
    "    import math\n",
    "    return 1/(1+math.exp(-x))\n",
    "sigmoid(19)"
   ]
  },
  {
   "cell_type": "code",
   "execution_count": 15,
   "id": "73993ca8",
   "metadata": {},
   "outputs": [],
   "source": [
    "def prediction_func(age,affordibility):\n",
    "    weighted_sum=coef[0]*age+coef[1]*affordibility+intercept\n",
    "    return sigmoid(weighted_sum)"
   ]
  },
  {
   "cell_type": "code",
   "execution_count": 16,
   "id": "4d4d5cff",
   "metadata": {},
   "outputs": [
    {
     "data": {
      "text/plain": [
       "0.6447141817015378"
      ]
     },
     "execution_count": 16,
     "metadata": {},
     "output_type": "execute_result"
    }
   ],
   "source": [
    "prediction_func(.47,1)"
   ]
  },
  {
   "cell_type": "code",
   "execution_count": 17,
   "id": "fdaec386",
   "metadata": {},
   "outputs": [
    {
     "data": {
      "text/plain": [
       "0.5742705601183442"
      ]
     },
     "execution_count": 17,
     "metadata": {},
     "output_type": "execute_result"
    }
   ],
   "source": [
    "prediction_func(.87,0)"
   ]
  },
  {
   "cell_type": "code",
   "execution_count": 36,
   "id": "5fff0f11",
   "metadata": {},
   "outputs": [],
   "source": [
    "def log_loss(y_true,y_predicted):\n",
    "    epsilon=1e-15\n",
    "    y_predicted_new=[max(i,epsilon) for i in y_predicted]\n",
    "    y_predicted_new=[min(i,1-epsilon) for i in y_predicted_new]\n",
    "    y_predicted_new=np.array(y_predicted_new)\n",
    "    return -np.mean(y_true*np.log(y_predicted_new)+(1-y_true)*np.log(1-y_predicted_new))\n",
    "\n"
   ]
  },
  {
   "cell_type": "code",
   "execution_count": 37,
   "id": "2566fc29",
   "metadata": {},
   "outputs": [],
   "source": [
    "def sigmoid_func(x):\n",
    "    return 1/(np.exp(-x))"
   ]
  },
  {
   "cell_type": "code",
   "execution_count": 43,
   "id": "a491533a",
   "metadata": {},
   "outputs": [],
   "source": [
    "def gradiend_des(age,affordibility,y_true,epochs,loss_thres):\n",
    "    #w1,w2,bias\n",
    "    w1=w2=1\n",
    "    bias=0\n",
    "    rate=0.5\n",
    "    n=len(age)\n",
    "    for i in range(epochs):\n",
    "        weighted_sum=w1*age+w2*affordibility+bias\n",
    "        y_pred=sigmoid_func(weighted_sum)\n",
    "        loss=log_loss(y_true,y_pred)\n",
    "        w1d=(1/n)*np.dot(np.transpose(age),(y_pred-y_true))\n",
    "        w2d=(1/n)*np.dot(np.transpose(affordibility),(y_pred-y_true))\n",
    "        biasd=np.mean(y_pred-y_true)\n",
    "        w1=w1-rate*w1d\n",
    "        w2=w2-rate*w2d\n",
    "        bias=bias-rate*biasd\n",
    "        \n",
    "        if(loss<=loss_thres):\n",
    "            break;\n",
    "        \n",
    "        print(f'epoch {epochs} , w1 {w1} , w2 {w2} ,bias {bias} , loss : {loss}')\n",
    "            \n",
    "            \n",
    "        \n",
    "        \n",
    "        \n",
    "    "
   ]
  },
  {
   "cell_type": "code",
   "execution_count": 44,
   "id": "64ab1e2f",
   "metadata": {},
   "outputs": [
    {
     "name": "stdout",
     "output_type": "stream",
     "text": [
      "epoch 5000 , w1 0.4247034322281562 , w2 -0.13343469456612933 ,bias -1.3530049636058623 , loss : 17.26978799617044\n",
      "epoch 5000 , w1 0.4917472031258109 , w2 -0.015283941449960162 ,bias -1.2443883228831265 , loss : 0.7882596566096225\n",
      "epoch 5000 , w1 0.544623996539505 , w2 0.07766482198762645 ,bias -1.168846683468526 , loss : 0.7083698580689958\n",
      "epoch 5000 , w1 0.5846134959788039 , w2 0.1470480256443373 ,bias -1.1231689827521762 , loss : 0.656746085339281\n",
      "epoch 5000 , w1 0.6143878830030411 , w2 0.19727154057942245 ,bias -1.1009868152415272 , loss : 0.6262201715800854\n",
      "epoch 5000 , w1 0.6370246890861313 , w2 0.23372676966614922 ,bias -1.0950745497553238 , loss : 0.6088937423236589\n",
      "epoch 5000 , w1 0.6551553650840075 , w2 0.2611561156358429 ,bias -1.0992988674243567 , loss : 0.5987533777069681\n",
      "epoch 5000 , w1 0.6706427753885925 , w2 0.2829775106446335 ,bias -1.1093373025509239 , loss : 0.592248530103403\n",
      "epoch 5000 , w1 0.6846564717379885 , w2 0.30136964829864654 ,bias -1.1224853566062936 , loss : 0.5875758134092878\n",
      "epoch 5000 , w1 0.697878610402938 , w2 0.3176254659390663 ,bias -1.1371708598676966 , loss : 0.5838689568436529\n",
      "epoch 5000 , w1 0.7106898044931826 , w2 0.3324842182024229 ,bias -1.1525202687317873 , loss : 0.5807072206317746\n",
      "epoch 5000 , w1 0.723296582373713 , w2 0.34636282675636815 ,bias -1.1680625291511921 , loss : 0.57787757979444\n",
      "epoch 5000 , w1 0.7358087325011674 , w2 0.3594975155893688 ,bias -1.1835498275027996 , loss : 0.5752670243967466\n",
      "epoch 5000 , w1 0.7482834297170217 , w2 0.3720251197914336 ,bias -1.198855509192427 , loss : 0.5728129244405106\n",
      "epoch 5000 , w1 0.7607496016996387 , w2 0.38402822242866735 ,bias -1.2139177928041847 , loss : 0.5704790236073247\n",
      "epoch 5000 , w1 0.7732211463871073 , w2 0.3955597708431693 ,bias -1.2287092806724824 , loss : 0.5682432753685472\n",
      "epoch 5000 , w1 0.7857040293405628 , w2 0.40665637978455454 ,bias -1.243220610970434 , loss : 0.566091470720866\n",
      "epoch 5000 , w1 0.7982000712642021 , w2 0.4173454924217678 ,bias -1.2574517486130388 , loss : 0.5640138284422561\n",
      "epoch 5000 , w1 0.8107089604961684 , w2 0.4276492346017571 ,bias -1.2714073680098743 , loss : 0.5620031448101581\n",
      "epoch 5000 , w1 0.8232293183514799 , w2 0.43758649696693114 ,bias -1.2850944165956915 , loss : 0.5600537777671969\n",
      "epoch 5000 , w1 0.8357592607244954 , w2 0.4471740694512318 ,bias -1.2985208366735594 , loss : 0.5581610817178121\n",
      "epoch 5000 , w1 0.848296692422611 , w2 0.4564272692487089 ,bias -1.3116949008545424 , loss : 0.5563210871554861\n",
      "epoch 5000 , w1 0.8608394599911647 , w2 0.4653602976169728 ,bias -1.3246248717125417 , loss : 0.5545303140726877\n",
      "epoch 5000 , w1 0.8733854297772891 , w2 0.4739864509179054 ,bias -1.3373188322373475 , loss : 0.5527856590395251\n",
      "epoch 5000 , w1 0.8859325266031385 , w2 0.48231825267488143 ,bias -1.3497846058913048 , loss : 0.5510843233351977\n",
      "epoch 5000 , w1 0.8984787517653916 , w2 0.49036754222582557 ,bias -1.362029723369025 , loss : 0.549423764386076\n",
      "epoch 5000 , w1 0.9110221902516911 , w2 0.49814553896572705 ,bias -1.3740614134342468 , loss : 0.5478016608097473\n",
      "epoch 5000 , w1 0.9235610123925538 , w2 0.5056628923610386 ,bias -1.3858866059284405 , loss : 0.5462158857200304\n",
      "epoch 5000 , w1 0.9360934726968215 , w2 0.5129297232375377 ,bias -1.3975119407073195 , loss : 0.5446644853091723\n",
      "epoch 5000 , w1 0.948617907313793 , w2 0.5199556593544226 ,bias -1.4089437792474535 , loss : 0.5431456610072162\n",
      "epoch 5000 , w1 0.9611327308766283 , w2 0.5267498669511265 ,bias -1.4201882172377274 , loss : 0.5416577542203534\n",
      "epoch 5000 , w1 0.9736364331187095 , w2 0.5333210792433797 ,bias -1.4312510972969634 , loss : 0.540199233037391\n",
      "epoch 5000 , w1 0.9861275754636452 , w2 0.5396776224619306 ,bias -1.4421380213923045 , loss : 0.538768680510493\n",
      "epoch 5000 , w1 0.9986047876892645 , w2 0.5458274398177541 ,bias -1.4528543627591273 , loss : 0.5373647842408208\n",
      "epoch 5000 , w1 1.0110667647133975 , w2 0.551778113660361 ,bias -1.4634052772404798 , loss : 0.5359863270734709\n",
      "epoch 5000 , w1 1.0235122635218399 , w2 0.5575368860280382 ,bias -1.4737957140240654 , loss : 0.5346321787518526\n",
      "epoch 5000 , w1 1.0359401002447477 , w2 0.5631106777477184 ,bias -1.4840304257848451 , loss : 0.5333012884115201\n",
      "epoch 5000 , w1 1.048349147380507 , w2 0.5685061062156741 ,bias -1.4941139782557338 , loss : 0.5319926778142214\n",
      "epoch 5000 , w1 1.0607383311625738 , w2 0.5737295019718902 ,bias -1.504050759255145 , loss : 0.530705435238138\n",
      "epoch 5000 , w1 1.0731066290631404 , w2 0.5787869241673942 ,bias -1.513844987202246 , loss : 0.5294387099520358\n",
      "epoch 5000 , w1 1.085453067426842 , w2 0.5836841750131283 ,bias -1.5235007191507786 , loss : 0.5281917072104886\n",
      "epoch 5000 , w1 1.0977767192275811 , w2 0.5884268132901331 ,bias -1.5330218583712796 , loss : 0.5269636837151332\n",
      "epoch 5000 , w1 1.1100767019416762 , w2 0.5930201669932901 ,bias -1.542412161510038 , loss : 0.5257539434935143\n",
      "epoch 5000 , w1 1.1223521755307995 , w2 0.5974693451743132 ,bias -1.5516752453514593 , loss : 0.5245618341527108\n",
      "epoch 5000 , w1 1.1346023405284738 , w2 0.6017792490438792 ,bias -1.5608145932088195 , loss : 0.5233867434698277\n",
      "epoch 5000 , w1 1.1468264362242315 , w2 0.6059545823876036 ,bias -1.5698335609667307 , loss : 0.5222280962856842\n",
      "epoch 5000 , w1 1.159023738939876 , w2 0.6099998613459164 ,bias -1.57873538279708 , loss : 0.5210853516717369\n",
      "epoch 5000 , w1 1.171193560392602 , w2 0.6139194236036983 ,bias -1.587523176568722 , loss : 0.5199580003435567\n",
      "epoch 5000 , w1 1.1833352461400504 , w2 0.6177174370317368 ,bias -1.5961999489698218 , loss : 0.5188455622970297\n",
      "epoch 5000 , w1 1.195448174102664 , w2 0.6213979078186268 ,bias -1.6047686003604635 , loss : 0.5177475846459989\n",
      "epoch 5000 , w1 1.2075317531589922 , w2 0.6249646881286184 ,bias -1.6132319293719406 , loss : 0.5166636396422938\n",
      "epoch 5000 , w1 1.2195854218098579 , w2 0.6284214833180716 ,bias -1.6215926372680334 , loss : 0.5155933228610772\n",
      "epoch 5000 , w1 1.231608646907544 , w2 0.6317718587406025 ,bias -1.6298533320825501 , loss : 0.5145362515361926\n",
      "epoch 5000 , w1 1.2436009224463964 , w2 0.6350192461686452 ,bias -1.638016532546452 , loss : 0.5134920630317572\n",
      "epoch 5000 , w1 1.2555617684114522 , w2 0.6381669498570124 ,bias -1.6460846718169897 , loss : 0.5124604134376275\n",
      "epoch 5000 , w1 1.2674907296819136 , w2 0.641218152272074 ,bias -1.6540601010204652 , loss : 0.5114409762775994\n",
      "epoch 5000 , w1 1.2793873749864748 , w2 0.6441759195083873 ,bias -1.6619450926194579 , loss : 0.5104334413203048\n",
      "epoch 5000 , w1 1.2912512959076945 , w2 0.6470432064129676 ,bias -1.66974184361465 , loss : 0.5094375134837457\n",
      "epoch 5000 , w1 1.3030821059327704 , w2 0.6498228614358941 ,bias -1.6774524785907272 , loss : 0.5084529118252842\n",
      "epoch 5000 , w1 1.3148794395482342 , w2 0.6525176312245657 ,bias -1.6850790526152142 , loss : 0.5074793686096923\n",
      "epoch 5000 , w1 1.3266429513762321 , w2 0.6551301649776667 ,bias -1.692623553998542 , loss : 0.5065166284485644\n",
      "epoch 5000 , w1 1.338372315350194 , w2 0.6576630185737369 ,bias -1.7000879069231065 , loss : 0.5055644475050287\n",
      "epoch 5000 , w1 1.3500672239278262 , w2 0.6601186584881842 ,bias -1.7074739739485951 , loss : 0.5046225927582574\n",
      "epoch 5000 , w1 1.3617273873394797 , w2 0.6624994655115949 ,bias -1.7147835584003923 , loss : 0.5036908413227791\n",
      "epoch 5000 , w1 1.3733525328700684 , w2 0.664807738281298 ,bias -1.7220184066474553 , loss : 0.5027689798180638\n",
      "epoch 5000 , w1 1.3849424041728076 , w2 0.6670456966373102 ,bias -1.7291802102756502 , loss : 0.50185680378425\n",
      "epoch 5000 , w1 1.3964967606131518 , w2 0.669215484813024 ,bias -1.7362706081621726 , loss : 0.500954117140264\n",
      "epoch 5000 , w1 1.4080153766413994 , w2 0.6713191744702959 ,bias -1.743291188456329 , loss : 0.5000607316809101\n",
      "epoch 5000 , w1 1.4194980411925222 , w2 0.6733587675879402 ,bias -1.7502434904716382 , loss : 0.49917646660981296\n",
      "epoch 5000 , w1 1.430944557111859 , w2 0.6753361992120319 ,bias -1.7571290064939102 , loss : 0.4983011481053719\n",
      "epoch 5000 , w1 1.4423547406053883 , w2 0.6772533400758664 ,bias -1.7639491835096819 , loss : 0.49743460891712393\n",
      "epoch 5000 , w1 1.4537284207133703 , w2 0.6791119990969083 ,bias -1.7707054248591254 , loss : 0.4965766879901473\n",
      "epoch 5000 , w1 1.465065438806214 , w2 0.6809139257575859 ,bias -1.7773990918173084 , loss : 0.49572723011532926\n",
      "epoch 5000 , w1 1.47636564810149 , w2 0.6826608123763438 ,bias -1.784031505107449 , loss : 0.4948860856035155\n",
      "epoch 5000 , w1 1.487628913201067 , w2 0.6843542962749598 ,bias -1.790603946349603 , loss : 0.4940531099817177\n",
      "epoch 5000 , w1 1.4988551096474112 , w2 0.685995961847749 ,bias -1.7971176594480196 , loss : 0.49322816370971284\n",
      "epoch 5000 , w1 1.5100441234981343 , w2 0.6875873425379274 ,bias -1.8035738519202125 , loss : 0.4924111119155027\n",
      "epoch 5000 , w1 1.5211958509179293 , w2 0.6891299227260771 ,bias -1.8099736961706272 , loss : 0.4916018241482286\n",
      "epoch 5000 , w1 1.532310197787079 , w2 0.6906251395353536 ,bias -1.8163183307116142 , loss : 0.4908001741472523\n",
      "epoch 5000 , w1 1.5433870793257647 , w2 0.6920743845577881 ,bias -1.822608861334271 , loss : 0.4900060396262159\n",
      "epoch 5000 , w1 1.5544264197334459 , w2 0.6934790055057772 ,bias -1.8288463622315676 , loss : 0.48921930207098946\n",
      "epoch 5000 , w1 1.5654281518426167 , w2 0.6948403077926042 ,bias -1.8350318770760432 , loss : 0.48843984655050215\n",
      "epoch 5000 , w1 1.5763922167862865 , w2 0.6961595560456081 ,bias -1.8411664200542284 , loss : 0.48766756153953356\n",
      "epoch 5000 , w1 1.5873185636785603 , w2 0.6974379755554025 ,bias -1.8472509768598346 , loss : 0.4869023387526134\n",
      "epoch 5000 , w1 1.5982071493077326 , w2 0.6986767536643473 ,bias -1.8532865056476397 , loss : 0.4861440729882384\n",
      "epoch 5000 , w1 1.6090579378413337 , w2 0.6998770410972883 ,bias -1.8592739379498937 , loss : 0.48539266198268954\n",
      "epoch 5000 , w1 1.6198709005426002 , w2 0.7010399532374092 ,bias -1.8652141795569745 , loss : 0.48464800627277377\n",
      "epoch 5000 , w1 1.6306460154978664 , w2 0.702166571349875 ,bias -1.8711081113639267 , loss : 0.48391000906687526\n",
      "epoch 5000 , w1 1.6413832673543967 , w2 0.7032579437557945 ,bias -1.8769565901844347 , loss : 0.483178576123743\n",
      "epoch 5000 , w1 1.6520826470682093 , w2 0.7043150869588874 ,bias -1.8827604495336974 , loss : 0.48245361563848665\n",
      "epoch 5000 , w1 1.6627441516614563 , w2 0.7053389867271099 ,bias -1.8885205003815961 , loss : 0.481735038135294\n",
      "epoch 5000 , w1 1.6733677839889531 , w2 0.706330599131365 ,bias -1.8942375318774771 , loss : 0.48102275636641195\n",
      "epoch 5000 , w1 1.6839535525134666 , w2 0.7072908515433092 ,bias -1.8999123120477974 , loss : 0.4803166852169775\n",
      "epoch 5000 , w1 1.694501471089392 , w2 0.7082206435941564 ,bias -1.9055455884678263 , loss : 0.47961674161530626\n",
      "epoch 5000 , w1 1.7050115587544652 , w2 0.7091208480962777 ,bias -1.9111380889085277 , loss : 0.4789228444482795\n",
      "epoch 5000 , w1 1.7154838395291774 , w2 0.709992311929299 ,bias -1.9166905219596955 , loss : 0.47823491448149613\n",
      "epoch 5000 , w1 1.7259183422235689 , w2 0.7108358568923073 ,bias -1.9222035776303619 , loss : 0.47755287428387694\n",
      "epoch 5000 , w1 1.7363151002511026 , w2 0.7116522805236924 ,bias -1.9276779279274414 , loss : 0.4768766481564361\n",
      "epoch 5000 , w1 1.7466741514493238 , w2 0.7124423568900695 ,bias -1.9331142274135367 , loss : 0.47620616206494976\n",
      "epoch 5000 , w1 1.7569955379070317 , w2 0.7132068373456544 ,bias -1.9385131137447749 , loss : 0.47554134357627315\n",
      "epoch 5000 , w1 1.7672793057976999 , w2 0.71394645126339 ,bias -1.9438752081895114 , loss : 0.47488212179807726\n",
      "epoch 5000 , w1 1.7775255052188936 , w2 0.7146619067390593 ,bias -1.949201116128691 , loss : 0.4742284273217862\n",
      "epoch 5000 , w1 1.787734190037446 , w2 0.715353891269554 ,bias -1.9544914275386214 , loss : 0.4735801921685168\n",
      "epoch 5000 , w1 1.797905417740163 , w2 0.7160230724064109 ,bias -1.9597467174568761 , loss : 0.4729373497378351\n",
      "epoch 5000 , w1 1.8080392492898416 , w2 0.716670098385673 ,bias -1.9649675464320142 , loss : 0.47229983475915205\n",
      "epoch 5000 , w1 1.8181357489863896 , w2 0.7172955987350756 ,bias -1.9701544609577657 , loss : 0.47166758324560104\n",
      "epoch 5000 , w1 1.828194984332852 , w2 0.7179001848595158 ,bias -1.9753079938923064 , loss : 0.4710405324502432\n",
      "epoch 5000 , w1 1.8382170259061508 , w2 0.718484450605708 ,bias -1.9804286648632148 , loss : 0.47041862082445857\n",
      "epoch 5000 , w1 1.8482019472323599 , w2 0.7190489728068911 ,bias -1.9855169806586763 , loss : 0.4698017879783966\n",
      "epoch 5000 , w1 1.8581498246663382 , w2 0.7195943118084075 ,bias -1.9905734356054756 , loss : 0.46918997464335743\n",
      "epoch 5000 , w1 1.8680607372755578 , w2 0.7201210119749364 ,bias -1.9955985119342916 , loss : 0.4685831226359926\n",
      "epoch 5000 , w1 1.8779347667279676 , w2 0.7206296021801248 ,bias -2.000592680132787 , loss : 0.4679811748242175\n",
      "epoch 5000 , w1 1.8877719971837397 , w2 0.7211205962793277 ,bias -2.005556399286965 , loss : 0.46738407509473545\n",
      "epoch 5000 , w1 1.8975725151907552 , w2 0.7215944935661311 ,bias -2.010490117411236 , loss : 0.4667917683220785\n",
      "epoch 5000 , w1 1.9073364095836889 , w2 0.7220517792133048 ,bias -2.0153942717676316 , loss : 0.46620420033907983\n",
      "epoch 5000 , w1 1.9170637713865593 , w2 0.7224929246987976 ,bias -2.020269289174571 , loss : 0.46562131790869343\n",
      "epoch 5000 , w1 1.9267546937186182 , w2 0.7229183882173638 ,bias -2.025115586305573 , loss : 0.46504306869708645\n",
      "epoch 5000 , w1 1.9364092717034564 , w2 0.7233286150783784 ,bias -2.02993356997829 , loss : 0.4644694012479297\n",
      "epoch 5000 , w1 1.9460276023812084 , w2 0.7237240380903772 ,bias -2.0347236374342232 , loss : 0.46390026495782116\n",
      "epoch 5000 , w1 1.9556097846237444 , w2 0.7241050779328306 ,bias -2.0394861766094614 , loss : 0.4633356100527806\n"
     ]
    }
   ],
   "source": [
    "gradiend_des(X_train_scaled['age'],X_train_scaled['affordibility'],y_train,5000,0.4631)"
   ]
  },
  {
   "cell_type": "code",
   "execution_count": 45,
   "id": "903f9df3",
   "metadata": {},
   "outputs": [
    {
     "data": {
      "text/plain": [
       "32"
      ]
     },
     "execution_count": 45,
     "metadata": {},
     "output_type": "execute_result"
    }
   ],
   "source": [
    "np.dot([1,2,3],[4,5,6])"
   ]
  },
  {
   "cell_type": "code",
   "execution_count": null,
   "id": "ffc659e0",
   "metadata": {},
   "outputs": [],
   "source": []
  }
 ],
 "metadata": {
  "kernelspec": {
   "display_name": "Python 3 (ipykernel)",
   "language": "python",
   "name": "python3"
  },
  "language_info": {
   "codemirror_mode": {
    "name": "ipython",
    "version": 3
   },
   "file_extension": ".py",
   "mimetype": "text/x-python",
   "name": "python",
   "nbconvert_exporter": "python",
   "pygments_lexer": "ipython3",
   "version": "3.11.4"
  }
 },
 "nbformat": 4,
 "nbformat_minor": 5
}
