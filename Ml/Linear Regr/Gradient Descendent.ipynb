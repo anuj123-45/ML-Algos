{
 "cells": [
  {
   "cell_type": "code",
   "execution_count": 64,
   "id": "2811253a",
   "metadata": {},
   "outputs": [],
   "source": [
    "import numpy as np\n",
    "import matplotlib.pyplot as plt"
   ]
  },
  {
   "cell_type": "code",
   "execution_count": 96,
   "id": "241f7256",
   "metadata": {},
   "outputs": [],
   "source": [
    "def gradient_desc(x,y):\n",
    "    m_curr=b_curr=0\n",
    "    iterations=1000\n",
    "    n=len(x)\n",
    "    learning_rate=0.00001\n",
    "    plt.scatter(x,y,color='red',marker='+')\n",
    "    plt.show()\n",
    "    for i in range(iterations):\n",
    "        yp=m_curr*x+b_curr\n",
    "        cost=(1/n)*sum([val**2 for val in (y-yp)])\n",
    "        plt.plot(x,yp,color='green',marker='*')\n",
    "        md=-(2/n)*sum(x*(y-yp))\n",
    "        bd=-(2/n)*sum(y-yp)\n",
    "        m_curr=m_curr-learning_rate*md\n",
    "        b_curr=b_curr-learning_rate*bd\n",
    "        print(\"m {} , b {} , cost {} , iteration {} \".format(m_curr,b_curr,cost,i))\n",
    "                 \n",
    "        "
   ]
  },
  {
   "cell_type": "code",
   "execution_count": 97,
   "id": "9e95e1de",
   "metadata": {},
   "outputs": [
    {
     "data": {
      "text/plain": [
       "dtype('int32')"
      ]
     },
     "execution_count": 97,
     "metadata": {},
     "output_type": "execute_result"
    }
   ],
   "source": [
    "x=np.array([1,2,3,4,5])\n",
    "y=np.array([5,7,9,11,13])\n",
    "# gradient_desc(x,y)\n",
    "x.dtype"
   ]
  },
  {
   "cell_type": "code",
   "execution_count": null,
   "id": "f4ceb11a",
   "metadata": {},
   "outputs": [],
   "source": []
  },
  {
   "cell_type": "code",
   "execution_count": null,
   "id": "9cd239e9",
   "metadata": {},
   "outputs": [],
   "source": []
  }
 ],
 "metadata": {
  "kernelspec": {
   "display_name": "Python 3 (ipykernel)",
   "language": "python",
   "name": "python3"
  },
  "language_info": {
   "codemirror_mode": {
    "name": "ipython",
    "version": 3
   },
   "file_extension": ".py",
   "mimetype": "text/x-python",
   "name": "python",
   "nbconvert_exporter": "python",
   "pygments_lexer": "ipython3",
   "version": "3.11.4"
  }
 },
 "nbformat": 4,
 "nbformat_minor": 5
}
