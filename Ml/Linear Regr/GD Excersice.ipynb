{
 "cells": [
  {
   "cell_type": "code",
   "execution_count": 63,
   "id": "42c23751",
   "metadata": {},
   "outputs": [],
   "source": [
    "import numpy as np\n",
    "import matplotlib.pyplot as plt\n",
    "import pandas as pd\n",
    "import math"
   ]
  },
  {
   "cell_type": "code",
   "execution_count": 64,
   "id": "d4411eac",
   "metadata": {},
   "outputs": [
    {
     "data": {
      "text/html": [
       "<div>\n",
       "<style scoped>\n",
       "    .dataframe tbody tr th:only-of-type {\n",
       "        vertical-align: middle;\n",
       "    }\n",
       "\n",
       "    .dataframe tbody tr th {\n",
       "        vertical-align: top;\n",
       "    }\n",
       "\n",
       "    .dataframe thead th {\n",
       "        text-align: right;\n",
       "    }\n",
       "</style>\n",
       "<table border=\"1\" class=\"dataframe\">\n",
       "  <thead>\n",
       "    <tr style=\"text-align: right;\">\n",
       "      <th></th>\n",
       "      <th>name</th>\n",
       "      <th>math</th>\n",
       "      <th>cs</th>\n",
       "    </tr>\n",
       "  </thead>\n",
       "  <tbody>\n",
       "    <tr>\n",
       "      <th>0</th>\n",
       "      <td>david</td>\n",
       "      <td>92</td>\n",
       "      <td>98</td>\n",
       "    </tr>\n",
       "    <tr>\n",
       "      <th>1</th>\n",
       "      <td>laura</td>\n",
       "      <td>56</td>\n",
       "      <td>68</td>\n",
       "    </tr>\n",
       "    <tr>\n",
       "      <th>2</th>\n",
       "      <td>sanjay</td>\n",
       "      <td>88</td>\n",
       "      <td>81</td>\n",
       "    </tr>\n",
       "    <tr>\n",
       "      <th>3</th>\n",
       "      <td>wei</td>\n",
       "      <td>70</td>\n",
       "      <td>80</td>\n",
       "    </tr>\n",
       "    <tr>\n",
       "      <th>4</th>\n",
       "      <td>jeff</td>\n",
       "      <td>80</td>\n",
       "      <td>83</td>\n",
       "    </tr>\n",
       "    <tr>\n",
       "      <th>5</th>\n",
       "      <td>aamir</td>\n",
       "      <td>49</td>\n",
       "      <td>52</td>\n",
       "    </tr>\n",
       "    <tr>\n",
       "      <th>6</th>\n",
       "      <td>venkat</td>\n",
       "      <td>65</td>\n",
       "      <td>66</td>\n",
       "    </tr>\n",
       "    <tr>\n",
       "      <th>7</th>\n",
       "      <td>virat</td>\n",
       "      <td>35</td>\n",
       "      <td>30</td>\n",
       "    </tr>\n",
       "    <tr>\n",
       "      <th>8</th>\n",
       "      <td>arthur</td>\n",
       "      <td>66</td>\n",
       "      <td>68</td>\n",
       "    </tr>\n",
       "    <tr>\n",
       "      <th>9</th>\n",
       "      <td>paul</td>\n",
       "      <td>67</td>\n",
       "      <td>73</td>\n",
       "    </tr>\n",
       "  </tbody>\n",
       "</table>\n",
       "</div>"
      ],
      "text/plain": [
       "     name  math  cs\n",
       "0   david    92  98\n",
       "1   laura    56  68\n",
       "2  sanjay    88  81\n",
       "3     wei    70  80\n",
       "4    jeff    80  83\n",
       "5   aamir    49  52\n",
       "6  venkat    65  66\n",
       "7   virat    35  30\n",
       "8  arthur    66  68\n",
       "9    paul    67  73"
      ]
     },
     "execution_count": 64,
     "metadata": {},
     "output_type": "execute_result"
    }
   ],
   "source": [
    "df=pd.read_csv('test_scores.csv')\n",
    "df"
   ]
  },
  {
   "cell_type": "code",
   "execution_count": 131,
   "id": "b82ae1f8",
   "metadata": {},
   "outputs": [],
   "source": [
    "def grad_desc(x,y):\n",
    "    m_curr=b_curr=0\n",
    "    iterations=100\n",
    "    n=len(x)\n",
    "    learning_rate=0.008\n",
    "    \n",
    "    cost_previous=0\n",
    "    for i in range(iterations):\n",
    "        yp=m_curr*x+b_curr\n",
    "        cost = (1/n)*sum([value**2 for value in (y-yp)])\n",
    "        md=-(2/n)*sum(x*(y-yp))\n",
    "        mb=-(2/n)*sum(y-yp)\n",
    "        m_curr=m_curr-learning_rate*md\n",
    "        b_curr=b_curr-learning_rate*mb\n",
    "        if math.isclose(cost, cost_previous, rel_tol=1e-20):\n",
    "            break\n",
    "        cost_previous = cost\n",
    "        print(\"m {} , b {} , cost {} , i {}\".format(m_curr,b_curr,cost,i))"
   ]
  },
  {
   "cell_type": "code",
   "execution_count": 132,
   "id": "14deae7e",
   "metadata": {},
   "outputs": [
    {
     "name": "stdout",
     "output_type": "stream",
     "text": [
      "m 79.13440000000001 , b 1.1184 , cost 5199.1 , i 0\n",
      "m -5836.882539520004 , b -82.35994112000002 , cost 28879593.41209627 , i 1\n",
      "m 436439.1092389523 , b 6158.5362761769 , cost 161405567962.51523 , i 2\n",
      "m -32627707.890128233 , b -460405.0018588341 , cost 902082854279548.0 , i 3\n",
      "m 2439217558.540131 , b 34419456.78953996 , cost 5.041669171750294e+18 , i 4\n",
      "m -182353664631.80585 , b -2573166979.968385 , cost 2.8177487152971883e+22 , i 5\n",
      "m 13632592510187.02 , b 192367600451.30362 , cost 1.5748172980184994e+26 , i 6\n",
      "m -1019160097072701.9 , b -14381225156042.686 , cost 8.801528357281899e+29 , i 7\n",
      "m 7.61914729490489e+16 , b 1075127186197759.0 , cost 4.91910404600645e+33 , i 8\n",
      "m -5.696004550040318e+18 , b -8.037552113672486e+16 , cost 2.749248043428422e+37 , i 9\n",
      "m 4.258280694452045e+20 , b 6.008800150284555e+18 , cost 1.536532818497958e+41 , i 10\n",
      "m -3.183451542821299e+22 , b -4.492123812751546e+20 , cost 8.58755945271894e+44 , i 11\n",
      "m 2.3799191393594588e+24 , b 3.35827051064993e+22 , cost 4.799518530692578e+48 , i 12\n",
      "m -1.7792056934750122e+26 , b -2.510612194322595e+24 , cost 2.682412652079878e+52 , i 13\n",
      "m 1.3301178377622923e+28 , b 1.8769106211939587e+26 , cost 1.4991790509869966e+56 , i 14\n",
      "m -9.94383880864241e+29 , b -1.4031611444877895e+28 , cost 8.378792223394807e+59 , i 15\n",
      "m 7.433922577762912e+31 , b 1.0489903862059409e+30 , cost 4.682840190209555e+63 , i 16\n",
      "m -5.557532252447888e+33 , b -7.842155797110337e+31 , cost 2.6172020575725622e+67 , i 17\n",
      "m 4.154760076381245e+35 , b 5.862723658372736e+33 , cost 1.462733369480099e+71 , i 18\n",
      "m -3.1060604793950054e+37 , b -4.382918368837888e+35 , cost 8.175100214368086e+74 , i 19\n",
      "m 2.3220622910342642e+39 , b 3.2766295236280173e+37 , cost 4.568998349898546e+78 , i 20\n",
      "m -1.7359524449741356e+41 , b -2.4495781421449225e+39 , cost 2.553576760402963e+82 , i 21\n",
      "m 1.2977821063833003e+43 , b 1.8312821242696497e+41 , cost 1.4271736980195852e+86 , i 22\n",
      "m -9.702099850285761e+44 , b -1.369049699199658e+43 , cost 7.976360044870868e+89 , i 23\n",
      "m 7.253200752416095e+46 , b 1.0234889829584176e+45 , cost 4.457924053231771e+93 , i 24\n",
      "m -5.422426275410872e+48 , b -7.651509648259214e+46 , cost 2.4914982213173286e+97 , i 25\n",
      "m 4.053756088644308e+50 , b 5.72019834822027e+48 , cost 1.3924784973237124e+101 , i 26\n",
      "m -3.030550825695759e+52 , b -4.276367755796549e+50 , cost 7.7824513335743e+104 , i 27\n",
      "m 2.2656119673437777e+54 , b 3.196973263786589e+52 , cost 4.349550020044034e+108 , i 28\n",
      "m -1.6937507013738668e+56 , b -2.3900278537813695e+54 , cost 2.4309288379675852e+112 , i 29\n",
      "m 1.2662324704118953e+58 , b 1.7867628755471802e+56 , cost 1.3586267517398526e+116 , i 30\n",
      "m -9.466237669008056e+59 , b -1.3357675176808497e+58 , cost 7.5932566256709e+119 , i 31\n",
      "m 7.076872351646279e+61 , b 9.986075296896015e+59 , cost 4.2438106057796214e+123 , i 32\n",
      "m -5.290604782242226e+63 , b -7.465498188518088e+61 , cost 2.3718319221347705e+127 , i 33\n",
      "m 3.9552075508855186e+65 , b 5.581137889085473e+63 , cost 1.325597956514851e+131 , i 34\n",
      "m -2.956876843851458e+67 , b -4.1724074335578424e+65 , cost 7.408661321729621e+134 , i 35\n",
      "m 2.2105339750748323e+69 , b 3.119253481562229e+67 , cost 4.1406417617299315e+138 , i 36\n",
      "m -1.6525749001420424e+71 , b -2.3319252583014086e+69 , cost 2.314171677506148e+142 , i 37\n",
      "m 1.2354498195337755e+73 , b 1.743325908730129e+71 , cost 1.2933721053748377e+146 , i 38\n",
      "m -9.2361093978545e+74 , b -1.3032944401757952e+73 , cost 7.228553608280414e+149 , i 39\n",
      "m 6.904830569430028e+76 , b 9.743309551513593e+74 , cost 4.039980996237767e+153 , i 40\n",
      "m -5.1619879257396465e+78 , b -7.284008746619922e+76 , cost 2.2579131779926e+157 , i 41\n",
      "m 3.8590547700696805e+80 , b 5.4454580489637934e+78 , cost 1.2619296784069824e+161 , i 42\n",
      "m -2.8849939078971557e+82 , b -4.0709744310486707e+80 , cost 7.052824390086307e+164 , i 43\n",
      "m 2.1567949522658408e+84 , b 3.043423100358961e+82 , cost 3.9417673368447405e+168 , i 44\n",
      "m -1.6124001001825472e+86 , b -2.2752351616741986e+84 , cost 2.203022346573121e+172 , i 45\n",
      "m 1.205415508014523e+88 , b 1.7009449130842325e+86 , cost 1.2312516302358577e+176 , i 46\n",
      "m -9.011575643026856e+89 , b -1.2716107970211733e+88 , cost 6.881367224062062e+179 , i 47\n",
      "m 6.73697119624385e+91 , b 9.50644554484022e+89 , cost 3.845941293358908e+183 , i 48\n",
      "m -5.0364977998203355e+93 , b -7.106931390384198e+91 , cost 2.1494659346535985e+187 , i 49\n",
      "m 3.7652395043247156e+95 , b 5.313076643566596e+93 , cost 1.2013193784872219e+191 , i 50\n",
      "m -2.8148584767441297e+97 , b -3.9720073080495614e+95 , cost 6.714078254799147e+194 , i 51\n",
      "m 2.1043623479987168e+99 , b 2.9694361880329186e+97 , cost 3.752444821820232e+198 , i 52\n",
      "m -1.573201966727938e+101 , b -2.219923225450785e+99 , cost 2.097211501927409e+202 , i 53\n",
      "m 1.1761113434054662e+103 , b 1.6595942175003844e+101 , cost 1.1721147925322724e+206 , i 54\n",
      "m -8.792500399449483e+104 , b -1.2406973967315583e+103 , cost 6.5508561516583e+209 , i 55\n",
      "m 6.573192555942148e+106 , b 9.275339803093222e+104 , cost 3.66122128934209e+213 , i 56\n",
      "m -4.914058392331553e+108 , b -6.934158860128532e+106 , cost 2.0462273967256148e+217 , i 57\n",
      "m 3.673704927663267e+110 , b 5.183913486540299e+108 , cost 1.1436201825055178e+221 , i 58\n",
      "m -2.746428067806074e+112 , b -3.875446117978944e+110 , cost 6.391602047391265e+224 , i 59\n",
      "m 2.053204402682062e+114 , b 2.8972479290702195e+112 , cost 3.5722154398074474e+228 , i 60\n",
      "m -1.5349567565993393e+116 , b -2.1659559459645366e+114 , cost 1.9964827368448276e+232 , i 61\n",
      "m 1.147519575524115e+118 , b 1.619248774945083e+116 , cost 1.1158182885896338e+236 , i 62\n",
      "m -8.578750968388107e+119 , b -1.2105355143747146e+118 , cost 6.236219478254717e+239 , i 63\n",
      "m 6.413395444169771e+121 , b 9.049852340398738e+119 , cost 3.485373360399035e+243 , i 64\n",
      "m -4.794595539008396e+123 , b -6.765586503699128e+121 , cost 1.9479473908411858e+247 , i 65\n",
      "m 3.584395595561952e+125 , b 5.0578903408957744e+123 , cost 1.08869227056081e+251 , i 66\n",
      "m -2.6796612312664607e+127 , b -3.7812323715822e+125 , cost 6.084614325580032e+254 , i 67\n",
      "m 2.0032901288136784e+129 , b 2.826814597441225e+127 , cost 3.400642448943132e+258 , i 68\n",
      "m -1.4976413038246702e+131 , b -2.113300634037238e+129 , cost 1.900591959779068e+262 , i 69\n",
      "m 1.1196228857024775e+133 , b 1.579884147288881e+131 , cost 1.0622256975882508e+266 , i 70\n",
      "m -8.370197877071222e+134 , b -1.1811068802294852e+133 , cost 5.936694758763514e+269 , i 71\n",
      "m 6.257483068271705e+136 , b 8.82984657399914e+134 , cost 3.3179713820472734e+273 , i 72\n",
      "m -4.678036878550832e+138 , b -6.601112213080647e+136 , cost 1.854387759423498e+277 , i 73\n",
      "m 3.497257411377369e+140 , b 4.9349308716184166e+138 , cost 1.0364025382816593e+281 , i 74\n",
      "m -2.614517524971459e+142 , b -3.6893090015034073e+140 , cost 5.7923711796425914e+284 , i 75\n",
      "m 1.9545892922107482e+144 , b 2.758093530114702e+142 , cost 3.2373100840125386e+288 , i 76\n",
      "m -1.4612330056065003e+146 , b -2.0619253951785196e+144 , cost 1.8093068028654787e+292 , i 77\n",
      "m 1.0924043762967593e+148 , b 1.5414764905036712e+146 , cost 1.0112071509806659e+296 , i 78\n",
      "m -8.1667148002655475e+149 , b -1.1523936687194201e+148 , cost 5.6515561682241705e+299 , i 79\n",
      "m 6.105360988663608e+151 , b 8.615189241521826e+149 , cost 3.1586096965015793e+303 , i 80\n",
      "m -4.564311808792862e+153 , b -6.44063636254709e+151 , cost 1.7653217835696943e+307 , i 81\n",
      "m 3.4122375935785656e+155 , b 4.8149605994303476e+153 , cost inf , i 82\n"
     ]
    },
    {
     "name": "stderr",
     "output_type": "stream",
     "text": [
      "C:\\Users\\hp\\AppData\\Local\\Temp\\ipykernel_344\\908252626.py:10: RuntimeWarning: overflow encountered in scalar power\n",
      "  cost = (1/n)*sum([value**2 for value in (y-yp)])\n"
     ]
    }
   ],
   "source": [
    "x = np.array(df.math)\n",
    "y = np.array(df.cs)\n",
    "grad_desc(x,y)"
   ]
  },
  {
   "cell_type": "code",
   "execution_count": 107,
   "id": "63d29891",
   "metadata": {},
   "outputs": [],
   "source": [
    "from sklearn import linear_model\n"
   ]
  },
  {
   "cell_type": "code",
   "execution_count": 108,
   "id": "883a0bd3",
   "metadata": {},
   "outputs": [
    {
     "data": {
      "text/html": [
       "<style>#sk-container-id-1 {color: black;}#sk-container-id-1 pre{padding: 0;}#sk-container-id-1 div.sk-toggleable {background-color: white;}#sk-container-id-1 label.sk-toggleable__label {cursor: pointer;display: block;width: 100%;margin-bottom: 0;padding: 0.3em;box-sizing: border-box;text-align: center;}#sk-container-id-1 label.sk-toggleable__label-arrow:before {content: \"▸\";float: left;margin-right: 0.25em;color: #696969;}#sk-container-id-1 label.sk-toggleable__label-arrow:hover:before {color: black;}#sk-container-id-1 div.sk-estimator:hover label.sk-toggleable__label-arrow:before {color: black;}#sk-container-id-1 div.sk-toggleable__content {max-height: 0;max-width: 0;overflow: hidden;text-align: left;background-color: #f0f8ff;}#sk-container-id-1 div.sk-toggleable__content pre {margin: 0.2em;color: black;border-radius: 0.25em;background-color: #f0f8ff;}#sk-container-id-1 input.sk-toggleable__control:checked~div.sk-toggleable__content {max-height: 200px;max-width: 100%;overflow: auto;}#sk-container-id-1 input.sk-toggleable__control:checked~label.sk-toggleable__label-arrow:before {content: \"▾\";}#sk-container-id-1 div.sk-estimator input.sk-toggleable__control:checked~label.sk-toggleable__label {background-color: #d4ebff;}#sk-container-id-1 div.sk-label input.sk-toggleable__control:checked~label.sk-toggleable__label {background-color: #d4ebff;}#sk-container-id-1 input.sk-hidden--visually {border: 0;clip: rect(1px 1px 1px 1px);clip: rect(1px, 1px, 1px, 1px);height: 1px;margin: -1px;overflow: hidden;padding: 0;position: absolute;width: 1px;}#sk-container-id-1 div.sk-estimator {font-family: monospace;background-color: #f0f8ff;border: 1px dotted black;border-radius: 0.25em;box-sizing: border-box;margin-bottom: 0.5em;}#sk-container-id-1 div.sk-estimator:hover {background-color: #d4ebff;}#sk-container-id-1 div.sk-parallel-item::after {content: \"\";width: 100%;border-bottom: 1px solid gray;flex-grow: 1;}#sk-container-id-1 div.sk-label:hover label.sk-toggleable__label {background-color: #d4ebff;}#sk-container-id-1 div.sk-serial::before {content: \"\";position: absolute;border-left: 1px solid gray;box-sizing: border-box;top: 0;bottom: 0;left: 50%;z-index: 0;}#sk-container-id-1 div.sk-serial {display: flex;flex-direction: column;align-items: center;background-color: white;padding-right: 0.2em;padding-left: 0.2em;position: relative;}#sk-container-id-1 div.sk-item {position: relative;z-index: 1;}#sk-container-id-1 div.sk-parallel {display: flex;align-items: stretch;justify-content: center;background-color: white;position: relative;}#sk-container-id-1 div.sk-item::before, #sk-container-id-1 div.sk-parallel-item::before {content: \"\";position: absolute;border-left: 1px solid gray;box-sizing: border-box;top: 0;bottom: 0;left: 50%;z-index: -1;}#sk-container-id-1 div.sk-parallel-item {display: flex;flex-direction: column;z-index: 1;position: relative;background-color: white;}#sk-container-id-1 div.sk-parallel-item:first-child::after {align-self: flex-end;width: 50%;}#sk-container-id-1 div.sk-parallel-item:last-child::after {align-self: flex-start;width: 50%;}#sk-container-id-1 div.sk-parallel-item:only-child::after {width: 0;}#sk-container-id-1 div.sk-dashed-wrapped {border: 1px dashed gray;margin: 0 0.4em 0.5em 0.4em;box-sizing: border-box;padding-bottom: 0.4em;background-color: white;}#sk-container-id-1 div.sk-label label {font-family: monospace;font-weight: bold;display: inline-block;line-height: 1.2em;}#sk-container-id-1 div.sk-label-container {text-align: center;}#sk-container-id-1 div.sk-container {/* jupyter's `normalize.less` sets `[hidden] { display: none; }` but bootstrap.min.css set `[hidden] { display: none !important; }` so we also need the `!important` here to be able to override the default hidden behavior on the sphinx rendered scikit-learn.org. See: https://github.com/scikit-learn/scikit-learn/issues/21755 */display: inline-block !important;position: relative;}#sk-container-id-1 div.sk-text-repr-fallback {display: none;}</style><div id=\"sk-container-id-1\" class=\"sk-top-container\"><div class=\"sk-text-repr-fallback\"><pre>LinearRegression()</pre><b>In a Jupyter environment, please rerun this cell to show the HTML representation or trust the notebook. <br />On GitHub, the HTML representation is unable to render, please try loading this page with nbviewer.org.</b></div><div class=\"sk-container\" hidden><div class=\"sk-item\"><div class=\"sk-estimator sk-toggleable\"><input class=\"sk-toggleable__control sk-hidden--visually\" id=\"sk-estimator-id-1\" type=\"checkbox\" checked><label for=\"sk-estimator-id-1\" class=\"sk-toggleable__label sk-toggleable__label-arrow\">LinearRegression</label><div class=\"sk-toggleable__content\"><pre>LinearRegression()</pre></div></div></div></div></div>"
      ],
      "text/plain": [
       "LinearRegression()"
      ]
     },
     "execution_count": 108,
     "metadata": {},
     "output_type": "execute_result"
    }
   ],
   "source": [
    "reg=linear_model.LinearRegression()\n",
    "reg.fit(df[['math']],df.cs)\n",
    "reg"
   ]
  },
  {
   "cell_type": "code",
   "execution_count": 110,
   "id": "d741f340",
   "metadata": {},
   "outputs": [
    {
     "name": "stderr",
     "output_type": "stream",
     "text": [
      "C:\\Users\\hp\\anaconda3\\Lib\\site-packages\\sklearn\\base.py:464: UserWarning: X does not have valid feature names, but LinearRegression was fitted with feature names\n",
      "  warnings.warn(\n"
     ]
    },
    {
     "data": {
      "text/plain": [
       "array([95.54695319])"
      ]
     },
     "execution_count": 110,
     "metadata": {},
     "output_type": "execute_result"
    }
   ],
   "source": [
    "reg.predict([[92]])"
   ]
  },
  {
   "cell_type": "code",
   "execution_count": 111,
   "id": "6a9c5477",
   "metadata": {},
   "outputs": [
    {
     "data": {
      "text/plain": [
       "array([1.01773624])"
      ]
     },
     "execution_count": 111,
     "metadata": {},
     "output_type": "execute_result"
    }
   ],
   "source": [
    "reg.coef_"
   ]
  },
  {
   "cell_type": "code",
   "execution_count": 112,
   "id": "11e5d64b",
   "metadata": {},
   "outputs": [
    {
     "data": {
      "text/plain": [
       "1.9152193111569176"
      ]
     },
     "execution_count": 112,
     "metadata": {},
     "output_type": "execute_result"
    }
   ],
   "source": [
    "reg.intercept_"
   ]
  },
  {
   "cell_type": "code",
   "execution_count": 138,
   "id": "857465ec",
   "metadata": {},
   "outputs": [
    {
     "name": "stderr",
     "output_type": "stream",
     "text": [
      "C:\\Users\\hp\\anaconda3\\Lib\\site-packages\\sklearn\\base.py:464: UserWarning: X does not have valid feature names, but LinearRegression was fitted with feature names\n",
      "  warnings.warn(\n"
     ]
    },
    {
     "data": {
      "text/plain": [
       "array([70.10354725])"
      ]
     },
     "execution_count": 138,
     "metadata": {},
     "output_type": "execute_result"
    }
   ],
   "source": [
    "reg.predict([[67]])"
   ]
  },
  {
   "cell_type": "code",
   "execution_count": null,
   "id": "1ec9d7be",
   "metadata": {},
   "outputs": [],
   "source": []
  }
 ],
 "metadata": {
  "kernelspec": {
   "display_name": "Python 3 (ipykernel)",
   "language": "python",
   "name": "python3"
  },
  "language_info": {
   "codemirror_mode": {
    "name": "ipython",
    "version": 3
   },
   "file_extension": ".py",
   "mimetype": "text/x-python",
   "name": "python",
   "nbconvert_exporter": "python",
   "pygments_lexer": "ipython3",
   "version": "3.11.4"
  }
 },
 "nbformat": 4,
 "nbformat_minor": 5
}
